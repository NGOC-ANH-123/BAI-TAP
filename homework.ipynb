{
 "cells": [
  {
   "cell_type": "code",
   "execution_count": 1,
   "id": "55361222-8bef-4e2f-8376-dea0538d92fe",
   "metadata": {},
   "outputs": [
    {
     "name": "stdin",
     "output_type": "stream",
     "text": [
      " 3\n"
     ]
    },
    {
     "name": "stdout",
     "output_type": "stream",
     "text": [
      "6\n"
     ]
    }
   ],
   "source": [
    "n=int(input())\n",
    "print(n*2)\n"
   ]
  },
  {
   "cell_type": "code",
   "execution_count": null,
   "id": "9a28291c-ed23-44f2-9a79-279df9e91cf7",
   "metadata": {},
   "outputs": [],
   "source": []
  },
  {
   "cell_type": "code",
   "execution_count": 66,
   "id": "ffb943b2-d811-4d26-8105-a4a815d8d948",
   "metadata": {},
   "outputs": [
    {
     "name": "stdin",
     "output_type": "stream",
     "text": [
      "chiều dài mảnh đất là: 5 \n",
      "chiều rộng mảnh đất là: 3\n"
     ]
    },
    {
     "name": "stdout",
     "output_type": "stream",
     "text": [
      "7.93\n"
     ]
    }
   ],
   "source": [
    "a=float(input(\"chiều dài mảnh đất là:\"))\n",
    "b=float(input(\"chiều rộng mảnh đất là:\"))\n",
    "c=a*b-((b/2)**2)*3.14\n",
    "print(f'{c:.2f}')"
   ]
  },
  {
   "cell_type": "code",
   "execution_count": 63,
   "id": "9dd329fb-52ae-4323-a0ee-26e501496861",
   "metadata": {},
   "outputs": [
    {
     "name": "stdin",
     "output_type": "stream",
     "text": [
      "Nhập vào một xâu:  4\n"
     ]
    },
    {
     "name": "stdout",
     "output_type": "stream",
     "text": [
      "4"
     ]
    }
   ],
   "source": [
    "n = input(\"Nhập vào một xâu: \")\n",
    "for i in n:\n",
    "    if i.islower():  \n",
    "        print(i.upper(), end='')  \n",
    "    else:\n",
    "        print(i.lower(), end='') "
   ]
  },
  {
   "cell_type": "code",
   "execution_count": 64,
   "id": "8512852a-6919-4d37-958e-67b3f733b9b6",
   "metadata": {},
   "outputs": [
    {
     "name": "stdin",
     "output_type": "stream",
     "text": [
      "Nhập vào một xâu:  3\n"
     ]
    },
    {
     "name": "stdout",
     "output_type": "stream",
     "text": [
      "n không phải là một alphabet\n"
     ]
    }
   ],
   "source": [
    "n = input(\"Nhập vào một xâu: \")\n",
    "c=ord(n)\n",
    "if 65<=c<=90 or 97<=c<=122:\n",
    "    print(\"n là một alphabet\")\n",
    "else:\n",
    "    print(\"n không phải là một alphabet\")\n",
    "    "
   ]
  },
  {
   "cell_type": "code",
   "execution_count": 68,
   "id": "5ac96e47-7b85-4af6-839e-4dbe25a3f97c",
   "metadata": {},
   "outputs": [
    {
     "name": "stdin",
     "output_type": "stream",
     "text": [
      "Nhập vào một xâu:  2\n"
     ]
    },
    {
     "name": "stdout",
     "output_type": "stream",
     "text": [
      "n không là một alpahbet"
     ]
    }
   ],
   "source": [
    "n = input(\"Nhập vào một xâu: \")\n",
    "for i in n:\n",
    "    if i.isalpha():  \n",
    "        print(\"n là một alphabet\", end='')  \n",
    "    else:\n",
    "        print(\"n không là một alpahbet\", end='') \n"
   ]
  },
  {
   "cell_type": "code",
   "execution_count": 9,
   "id": "f3b2549c-946a-4485-a725-d0974c0205af",
   "metadata": {},
   "outputs": [
    {
     "name": "stdin",
     "output_type": "stream",
     "text": [
      " B\n"
     ]
    },
    {
     "name": "stdout",
     "output_type": "stream",
     "text": [
      "a\n"
     ]
    }
   ],
   "source": [
    "n=input()\n",
    "c=n.lower()\n",
    "if ord(c)==97:\n",
    "    print(\"A là ngoại lệ\")\n",
    "else:\n",
    "    print(chr(ord(c)-1))\n",
    "\n"
   ]
  },
  {
   "cell_type": "code",
   "execution_count": 98,
   "id": "cc70a16c-136a-4069-8830-daa89779abaf",
   "metadata": {},
   "outputs": [
    {
     "name": "stdin",
     "output_type": "stream",
     "text": [
      " 5\n",
      " 4\n",
      " 3\n"
     ]
    },
    {
     "name": "stdout",
     "output_type": "stream",
     "text": [
      "6.0\n"
     ]
    }
   ],
   "source": [
    "import math \n",
    "a=int(input())\n",
    "b=int(input())\n",
    "c=int(input())\n",
    "if a-b<=c and a+b>=c:\n",
    "   p=(a+b+c)/2\n",
    "   S=p*(p-a)*(p-c)*(p-b)\n",
    "   h=math.sqrt(S)\n",
    "   print(h)\n",
    "else:\n",
    "    print(\"Đây không phải là một tam giác\")\n",
    "\n"
   ]
  },
  {
   "cell_type": "code",
   "execution_count": 25,
   "id": "481253a2-42d6-4b21-8aac-8ea3b8a70c34",
   "metadata": {},
   "outputs": [
    {
     "name": "stdin",
     "output_type": "stream",
     "text": [
      " 1224325435\n"
     ]
    },
    {
     "name": "stdout",
     "output_type": "stream",
     "text": [
      "3 3\n"
     ]
    }
   ],
   "source": [
    "n=input()\n",
    "if len(n)>=10:\n",
    "   print(n[4],n[8])\n"
   ]
  },
  {
   "cell_type": "code",
   "execution_count": 6,
   "id": "8f9cac82-64d6-4bfa-974f-980f5b50e9b7",
   "metadata": {},
   "outputs": [
    {
     "name": "stdin",
     "output_type": "stream",
     "text": [
      "Tên chủ hộ là: Vũ Minh Hoan \n",
      "chi số tháng trước là: 0\n",
      "chỉ số tháng này là: 500\n"
     ]
    },
    {
     "name": "stdout",
     "output_type": "stream",
     "text": [
      "Họ và tên: Vũ Minh Hoan \n",
      "Tiền phải trả là: 1534140 đồng\n"
     ]
    }
   ],
   "source": [
    "n=input((\"Tên chủ hộ là:\"))\n",
    "a=float(input(\"chi số tháng trước là:\"))\n",
    "b=float(input(\"chỉ số tháng này là:\"))\n",
    "c=b-a\n",
    "if 0<=c<=50:\n",
    "   k=(c*1984)\n",
    "   print(f\"Họ và tên: {n}\\nTiền phải trả là: {k*1.08:.0f} đồng\")\n",
    "elif 51<=c<=100:\n",
    "    k=50*1984+(c-50)*2050\n",
    "    print(f\"Họ và tên: {n}\\nTiền phải trả là: {k*1.08:.0f} đồng\")    \n",
    "elif 101<=c<=200:\n",
    "    k=50*1984+50*2050+ (c-100)*2380\n",
    "    print(f\"Họ và tên: {n}\\nTiền phải trả là: {k*1.08:.0f} đồng\")   \n",
    "elif 201<=c<=300:\n",
    "    k=(50*1984+50*2050+100*2380+(c-200)*2998)\n",
    "    print(f\"Họ và tên: {n}\\nTiền phải trả là: {k*1.08:.0f} đồng\") \n",
    "elif 301<=c<=400:\n",
    "    k=(50*1984+50*2050+100*2380+100*2998+(c-300)*3350)\n",
    "    print(f\"Họ và tên: {n}\\nTiền phải trả là: {k*1.08:.0f} đồng\") \n",
    "else:\n",
    "     k=50*1984+50*2050+100*2380+100*2998+100*3350+(c-400)*3460\n",
    "     print(f\"Họ và tên: {n}\\nTiền phải trả là: {k*1.08:.0f} đồng\")\n",
    "\n",
    "\n",
    "    "
   ]
  },
  {
   "cell_type": "code",
   "execution_count": 120,
   "id": "902361df-0d73-49a3-872e-024010b6c801",
   "metadata": {},
   "outputs": [
    {
     "name": "stdin",
     "output_type": "stream",
     "text": [
      " 4\n"
     ]
    },
    {
     "name": "stdout",
     "output_type": "stream",
     "text": [
      "4 là số chẵn\n"
     ]
    }
   ],
   "source": [
    "n=int(input())\n",
    "if n%2==0:\n",
    "   print(f\"{n} là số chẵn\")\n",
    "else:\n",
    "   print(f\"{n} là số chẵn\")\n"
   ]
  },
  {
   "cell_type": "code",
   "execution_count": 121,
   "id": "6ba3ebb7-e674-4b79-803b-c2069576212f",
   "metadata": {},
   "outputs": [
    {
     "name": "stdin",
     "output_type": "stream",
     "text": [
      " 12345\n"
     ]
    },
    {
     "name": "stdout",
     "output_type": "stream",
     "text": [
      "True\n"
     ]
    }
   ],
   "source": [
    "n=float(input())\n",
    "if n%10==5:\n",
    "    print(\"True\")\n",
    "else:\n",
    "    print(\"False\")\n",
    "\n",
    "    "
   ]
  },
  {
   "cell_type": "code",
   "execution_count": 122,
   "id": "e6401bc3-e2ce-44e2-8353-72896d6ae3a4",
   "metadata": {},
   "outputs": [
    {
     "name": "stdin",
     "output_type": "stream",
     "text": [
      " 45\n"
     ]
    },
    {
     "name": "stdout",
     "output_type": "stream",
     "text": [
      "True\n"
     ]
    }
   ],
   "source": [
    "n=float(input())\n",
    "if n%10==5 and n%3==0:\n",
    "    print(\"True\")\n",
    "else:\n",
    "    print(\"False\")"
   ]
  },
  {
   "cell_type": "code",
   "execution_count": 126,
   "id": "d04c0b0b-77d8-4453-af2a-8e63583fc898",
   "metadata": {},
   "outputs": [
    {
     "name": "stdin",
     "output_type": "stream",
     "text": [
      " 2001\n"
     ]
    },
    {
     "name": "stdout",
     "output_type": "stream",
     "text": [
      "Đủ tuổi bầu cử\n"
     ]
    }
   ],
   "source": [
    "n=int(input())\n",
    "if 2025-n>=18:\n",
    "    print(\"Đủ tuổi bầu cử\")\n",
    "else:\n",
    "    print(\"Không đủ tuổi bầu cử\")\n",
    "    "
   ]
  },
  {
   "cell_type": "code",
   "execution_count": 1,
   "id": "877f58b4-bdf8-439e-ae05-04429c071721",
   "metadata": {},
   "outputs": [
    {
     "name": "stdin",
     "output_type": "stream",
     "text": [
      " 5\n",
      " 6\n"
     ]
    },
    {
     "name": "stdout",
     "output_type": "stream",
     "text": [
      "6\n"
     ]
    }
   ],
   "source": [
    "a=int(input())\n",
    "b=int(input())\n",
    "if a>b:\n",
    "    print(a)\n",
    "elif b>a:\n",
    "    print(b)\n",
    "elif a==b:\n",
    "    print(f\"{a}={b}\")"
   ]
  },
  {
   "cell_type": "code",
   "execution_count": 3,
   "id": "3772dc3c-5650-401b-9aab-3c45e7a7faf2",
   "metadata": {},
   "outputs": [
    {
     "name": "stdin",
     "output_type": "stream",
     "text": [
      " 4\n"
     ]
    },
    {
     "name": "stdout",
     "output_type": "stream",
     "text": [
      "yếu\n"
     ]
    }
   ],
   "source": [
    "n=float(input())\n",
    "if n>=8:\n",
    "    print(\"Giỏi\")\n",
    "elif 6.5<n<8:\n",
    "    print(\"khá\")\n",
    "elif 5<=n<6.5:\n",
    "    print(\"Trung bình\")\n",
    "else:\n",
    "    print(\"yếu\")"
   ]
  },
  {
   "cell_type": "code",
   "execution_count": 1,
   "id": "008cad6a-ed3a-48e1-a1af-fcdbc0858841",
   "metadata": {},
   "outputs": [
    {
     "name": "stdin",
     "output_type": "stream",
     "text": [
      " 8\n"
     ]
    },
    {
     "name": "stdout",
     "output_type": "stream",
     "text": [
      "TÁM\n"
     ]
    }
   ],
   "source": [
    "\n",
    "def kiem_tra_so(x):\n",
    "    match x:\n",
    "        case 1:\n",
    "            print(\"MỘT\")\n",
    "        case 2:\n",
    "            print(\"HAI\")\n",
    "        case 3:\n",
    "            print(\"BA\")\n",
    "        case 4:\n",
    "            print(\"BỐN\")\n",
    "        case 5:\n",
    "            print(\"NĂM\")\n",
    "        case 6:\n",
    "            print(\"SÁU\")\n",
    "        case 7:\n",
    "            print(\"BẢY\")\n",
    "        case 8:\n",
    "            print(\"TÁM\")\n",
    "        case 9:\n",
    "            print(\"CHÍN\")\n",
    "x=int(input())\n",
    "kiem_tra_so(x)\n",
    "    \n",
    "    "
   ]
  },
  {
   "cell_type": "code",
   "execution_count": 8,
   "id": "4952bfce-971c-4ec6-a5dc-2e6e4d73d4a8",
   "metadata": {},
   "outputs": [
    {
     "name": "stdin",
     "output_type": "stream",
     "text": [
      " 4\n"
     ]
    },
    {
     "name": "stdout",
     "output_type": "stream",
     "text": [
      "Qua môn\n"
     ]
    }
   ],
   "source": [
    "n=float(input())\n",
    "if n>=4:\n",
    "    print(\"Qua môn\")\n",
    "else:\n",
    "    print(\"Học lại\")"
   ]
  },
  {
   "cell_type": "code",
   "execution_count": 9,
   "id": "69d8ab8a-99af-4e0d-a641-929cd6d0f048",
   "metadata": {},
   "outputs": [
    {
     "name": "stdin",
     "output_type": "stream",
     "text": [
      " 2003\n"
     ]
    },
    {
     "name": "stdout",
     "output_type": "stream",
     "text": [
      "Đủ 18\n"
     ]
    }
   ],
   "source": [
    "n=int(input())\n",
    "if 2025-n>=18:\n",
    "    print(\"Đủ 18\")\n",
    "else:\n",
    "    print(\"Chưa đủ tuổi\")"
   ]
  },
  {
   "cell_type": "code",
   "execution_count": 5,
   "id": "73fe850b-8e62-4a92-bb66-fe9724442bdd",
   "metadata": {},
   "outputs": [
    {
     "name": "stdin",
     "output_type": "stream",
     "text": [
      " 2024\n"
     ]
    },
    {
     "name": "stdout",
     "output_type": "stream",
     "text": [
      "năm nhuần\n"
     ]
    }
   ],
   "source": [
    "n=int(input())\n",
    "if n % 400 == 0 or (n % 4 ==0 and n % 100 !=0):\n",
    "    print(\"năm nhuần\")"
   ]
  },
  {
   "cell_type": "code",
   "execution_count": null,
   "id": "91609292-8e26-4443-8825-84f1d6fc38ca",
   "metadata": {},
   "outputs": [],
   "source": []
  },
  {
   "cell_type": "code",
   "execution_count": null,
   "id": "6d404b61-5877-4c55-bbc9-c043d811bcbd",
   "metadata": {},
   "outputs": [],
   "source": []
  }
 ],
 "metadata": {
  "kernelspec": {
   "display_name": "Python 3 (ipykernel)",
   "language": "python",
   "name": "python3"
  },
  "language_info": {
   "codemirror_mode": {
    "name": "ipython",
    "version": 3
   },
   "file_extension": ".py",
   "mimetype": "text/x-python",
   "name": "python",
   "nbconvert_exporter": "python",
   "pygments_lexer": "ipython3",
   "version": "3.13.5"
  }
 },
 "nbformat": 4,
 "nbformat_minor": 5
}
