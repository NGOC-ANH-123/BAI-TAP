{
 "cells": [
  {
   "cell_type": "code",
   "execution_count": 10,
   "id": "f3a13b03-843c-4406-bc7a-73f14e94adcf",
   "metadata": {},
   "outputs": [
    {
     "name": "stdout",
     "output_type": "stream",
     "text": [
      "x = 7\n",
      "y = 10\n"
     ]
    }
   ],
   "source": [
    "#W3A2\n",
    "x = 10\n",
    "y = 7\n",
    "x = x ^ y\n",
    "y = x ^ y\n",
    "x = x ^ y\n",
    "print(\"x =\", x)  \n",
    "print(\"y =\", y)  \n"
   ]
  },
  {
   "cell_type": "code",
   "execution_count": 4,
   "id": "689f6a41-7fb7-444c-98d3-540c35f12779",
   "metadata": {},
   "outputs": [
    {
     "name": "stdin",
     "output_type": "stream",
     "text": [
      " 256\n"
     ]
    },
    {
     "name": "stdout",
     "output_type": "stream",
     "text": [
      "256 la mot luy thua cua 2\n"
     ]
    }
   ],
   "source": [
    "#W3A3\n",
    "x=int(input())\n",
    "for i in range(x):\n",
    "    if 2<<i==x:\n",
    "       print(f\"{x} la mot luy thua cua 2\")"
   ]
  },
  {
   "cell_type": "code",
   "execution_count": 5,
   "id": "27dcf82c-878f-4a59-b531-bf14a8f22d04",
   "metadata": {},
   "outputs": [
    {
     "name": "stdin",
     "output_type": "stream",
     "text": [
      " 7.8\n",
      " 3\n"
     ]
    },
    {
     "name": "stdout",
     "output_type": "stream",
     "text": [
      "2\n"
     ]
    }
   ],
   "source": [
    "#w3A4\n",
    "import math \n",
    "m=float(input())\n",
    "n=float(input())\n",
    "print(math.floor(m/n))"
   ]
  },
  {
   "cell_type": "code",
   "execution_count": 7,
   "id": "f467e965-6623-4588-9ccf-2ce564e8786f",
   "metadata": {},
   "outputs": [
    {
     "name": "stdin",
     "output_type": "stream",
     "text": [
      " 7.8 \n",
      " 2\n"
     ]
    },
    {
     "name": "stdout",
     "output_type": "stream",
     "text": [
      "4\n"
     ]
    }
   ],
   "source": [
    "#W3A5\n",
    "import math \n",
    "m=float(input())\n",
    "n=float(input())\n",
    "print(math.ceil(m/n))"
   ]
  },
  {
   "cell_type": "code",
   "execution_count": 9,
   "id": "31076692-fed0-4547-9e23-6e6a290af2d8",
   "metadata": {},
   "outputs": [
    {
     "name": "stdin",
     "output_type": "stream",
     "text": [
      " 4\n"
     ]
    },
    {
     "name": "stdout",
     "output_type": "stream",
     "text": [
      "even\n"
     ]
    }
   ],
   "source": [
    "#W3A6\n",
    "n=int(input())\n",
    "if n%2==0:\n",
    "    print(\"even\")\n",
    "else:\n",
    "    print(\"odd\")\n",
    "    "
   ]
  },
  {
   "cell_type": "code",
   "execution_count": 5,
   "id": "942a204b-d3af-4974-9a48-7b8e484ed33f",
   "metadata": {},
   "outputs": [
    {
     "name": "stdin",
     "output_type": "stream",
     "text": [
      " -2 -3 \n"
     ]
    },
    {
     "name": "stdout",
     "output_type": "stream",
     "text": [
      "yes\n"
     ]
    }
   ],
   "source": [
    "#W3a7\n",
    "a,b=map(float, input().split())\n",
    "if a<0 and b<0:\n",
    "    print(\"yes\")\n",
    "else:\n",
    "    print(\"no\")"
   ]
  },
  {
   "cell_type": "code",
   "execution_count": 6,
   "id": "73043f66-5ded-449e-b53d-cb9d3043d237",
   "metadata": {},
   "outputs": [
    {
     "name": "stdin",
     "output_type": "stream",
     "text": [
      " ssssssss\n",
      " eeee\n"
     ]
    },
    {
     "name": "stdout",
     "output_type": "stream",
     "text": [
      "True\n"
     ]
    }
   ],
   "source": [
    "#W3A8\n",
    "a=input()\n",
    "b=input()\n",
    "if len(a)>len(b):\n",
    "    print(\"True\")\n",
    "else:\n",
    "    print (\"False\")"
   ]
  },
  {
   "cell_type": "code",
   "execution_count": 11,
   "id": "329a391d-37d4-4960-9f9f-c68981c786f0",
   "metadata": {},
   "outputs": [
    {
     "name": "stdin",
     "output_type": "stream",
     "text": [
      " 1\n",
      " 1\n",
      " 2\n"
     ]
    },
    {
     "data": {
      "text/plain": [
       "False"
      ]
     },
     "execution_count": 11,
     "metadata": {},
     "output_type": "execute_result"
    }
   ],
   "source": [
    "#W3A9\n",
    "def la_tam_giac(a, b, c):\n",
    "    return a + b > c and a + c > b and b + c > a\n",
    "    if not la_tam_giac(a, b, c):\n",
    "        print(\"YES\")\n",
    "    if la_tam_giac(a, b, c):\n",
    "        print(\"NO\")\n"
   ]
  },
  {
   "cell_type": "code",
   "execution_count": 7,
   "id": "40af84e3-dcaf-45d0-8083-c949d5c842db",
   "metadata": {},
   "outputs": [
    {
     "name": "stdin",
     "output_type": "stream",
     "text": [
      " 1 2 3 4 \n"
     ]
    },
    {
     "name": "stdout",
     "output_type": "stream",
     "text": [
      "4\n"
     ]
    }
   ],
   "source": [
    "#W3A10\n",
    "a,b,c,d=map(int, input().split())\n",
    "max_value=max(a,b,c,d)\n",
    "print(max_value)"
   ]
  },
  {
   "cell_type": "code",
   "execution_count": null,
   "id": "114ac0b6-b76a-491a-b114-967e5c525786",
   "metadata": {},
   "outputs": [],
   "source": [
    "#W3A11\n",
    "def la_tam_giac(a, b, c):\n",
    "    return a + b > c and a + c > b and b + c > a\n",
    "def loai_tam_giac(a, b, c):\n",
    "    if a == b == c:\n",
    "        return \"Tam giác đều\"\n",
    "    elif a == b or b == c or a == c:\n",
    "        return \"Tam giác cân\"\n",
    "    elif (a**2 + b**2 == c**2) or (a**2 + c**2 == b**2) or (b**2 + c**2 == a**2):\n",
    "        return \"Tam giác vuông\"\n",
    "    else:\n",
    "        return \"Tam giác thường\"\n",
    "a=int(input())\n",
    "b=int(input())\n",
    "c=int(input())\n",
    "la_tam_giac(a, b, c)\n",
    "loai_tam_giac(a, b, c)\n"
   ]
  },
  {
   "cell_type": "code",
   "execution_count": 23,
   "id": "6bf8eb1c-af52-4e65-84b8-82fa33eae6fd",
   "metadata": {},
   "outputs": [
    {
     "name": "stdin",
     "output_type": "stream",
     "text": [
      " 2024\n"
     ]
    },
    {
     "name": "stdout",
     "output_type": "stream",
     "text": [
      "YES\n"
     ]
    }
   ],
   "source": [
    "#W3A12\n",
    "n=int(input())\n",
    "if n % 4 == 0 or (n%4 == 0 and n % 100 !=0):\n",
    "   print(\"YES\")\n",
    "else:\n",
    "   print(\"NO\")"
   ]
  },
  {
   "cell_type": "code",
   "execution_count": 16,
   "id": "d7a35145-4412-45ca-b84c-4c2da791e7f7",
   "metadata": {},
   "outputs": [
    {
     "name": "stdin",
     "output_type": "stream",
     "text": [
      " 5 6\n"
     ]
    },
    {
     "name": "stdout",
     "output_type": "stream",
     "text": [
      "x= -1.2\n"
     ]
    }
   ],
   "source": [
    "#W3A14\n",
    "#ax+b=0\n",
    "a,b=map(int, input().split())\n",
    "if a != 0 and b!=0:\n",
    "   print(\"x=\",-b/a)\n",
    "if a==0 and b==0:\n",
    "    print(\"phương trình có vô số nghiệm\")\n",
    "if a==0 and b!=0:\n",
    "    print(\"phương trình vô nghiệm\")"
   ]
  },
  {
   "cell_type": "code",
   "execution_count": 30,
   "id": "58754792-7d31-4c05-a007-c0fb52cfb96b",
   "metadata": {},
   "outputs": [
    {
     "name": "stdin",
     "output_type": "stream",
     "text": [
      " 3\n"
     ]
    },
    {
     "name": "stdout",
     "output_type": "stream",
     "text": [
      "yeu\n"
     ]
    }
   ],
   "source": [
    "#W3A15\n",
    "n=float(input())\n",
    "if n>=8:\n",
    "    print(\"Gioi\")\n",
    "elif n>=6.5:\n",
    "    print(\"kha\")\n",
    "elif n>=5:\n",
    "    print(\"trung binh\")\n",
    "else:\n",
    "    print(\"yeu\")"
   ]
  },
  {
   "cell_type": "code",
   "execution_count": 20,
   "id": "15f35169-176d-4c86-b566-e035ab798c24",
   "metadata": {},
   "outputs": [
    {
     "name": "stdin",
     "output_type": "stream",
     "text": [
      " 5.3\n"
     ]
    },
    {
     "name": "stdout",
     "output_type": "stream",
     "text": [
      "6 5 5\n"
     ]
    }
   ],
   "source": [
    "x = float(input())\n",
    "floor = x - (x % 1)\n",
    "if x < 0 and x % 1 != 0:\n",
    "    floor -= 1\n",
    "ceil = x - (x % 1)\n",
    "if x > 0 and x % 1 != 0:\n",
    "    ceil += 1\n",
    "frac = x % 1\n",
    "if x >= 0:\n",
    "    nearest = x - frac + (1 if frac >= 0.5 else 0)\n",
    "else:\n",
    "    nearest = x - frac - (1 if frac >= 0.5 else 0)\n",
    "print(int(ceil), int(floor), int(nearest))\n",
    "\n",
    "\n"
   ]
  },
  {
   "cell_type": "code",
   "execution_count": 22,
   "id": "59d885be-1ff6-4f33-b63a-f733a93c2af8",
   "metadata": {},
   "outputs": [
    {
     "name": "stdin",
     "output_type": "stream",
     "text": [
      " 5 25 125 625\n"
     ]
    },
    {
     "name": "stdout",
     "output_type": "stream",
     "text": [
      "Tạo thành 1 cấp số nhân\n"
     ]
    }
   ],
   "source": [
    "#W3A17\n",
    "a,b,c,d=map(int, input().split())\n",
    "k=b/a\n",
    "if b*k==c and c*k==d:\n",
    "   print(\"Tạo thành 1 cấp số nhân\")"
   ]
  }
 ],
 "metadata": {
  "kernelspec": {
   "display_name": "Python 3 (ipykernel)",
   "language": "python",
   "name": "python3"
  },
  "language_info": {
   "codemirror_mode": {
    "name": "ipython",
    "version": 3
   },
   "file_extension": ".py",
   "mimetype": "text/x-python",
   "name": "python",
   "nbconvert_exporter": "python",
   "pygments_lexer": "ipython3",
   "version": "3.13.5"
  }
 },
 "nbformat": 4,
 "nbformat_minor": 5
}
