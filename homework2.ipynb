{
 "cells": [
  {
   "cell_type": "code",
   "execution_count": 10,
   "id": "782e25ca-e2ab-43b5-b82d-5e9d7570e7b7",
   "metadata": {},
   "outputs": [
    {
     "name": "stdin",
     "output_type": "stream",
     "text": [
      " 5 \n",
      " 6\n"
     ]
    },
    {
     "name": "stdout",
     "output_type": "stream",
     "text": [
      "c= 22\n",
      "s= 30\n"
     ]
    }
   ],
   "source": [
    "#bài 1 \n",
    "a=int(input())\n",
    "b=int(input())\n",
    "print(\"c=\",2*(a+b))\n",
    "print(\"s=\",a*b)\n"
   ]
  },
  {
   "cell_type": "code",
   "execution_count": 13,
   "id": "ca89d87f-7173-414f-adf1-ff390a22f9b7",
   "metadata": {},
   "outputs": [
    {
     "name": "stdin",
     "output_type": "stream",
     "text": [
      " 4 \n"
     ]
    },
    {
     "name": "stdout",
     "output_type": "stream",
     "text": [
      "c= 25.12\n",
      "s= 50.24\n"
     ]
    }
   ],
   "source": [
    "#bài 2 \n",
    "r=int(input())\n",
    "print(\"c=\", 2*3.14*r)\n",
    "print(\"s=\", r**2*3.14)"
   ]
  },
  {
   "cell_type": "code",
   "execution_count": 1,
   "id": "c472d2db-1459-4f7e-b5e7-c82037a9467e",
   "metadata": {},
   "outputs": [
    {
     "name": "stdin",
     "output_type": "stream",
     "text": [
      "Nhập cạnh a:  4 \n",
      "Nhập cạnh b:  5\n",
      "Nhập cạnh c:  6\n"
     ]
    },
    {
     "name": "stdout",
     "output_type": "stream",
     "text": [
      "Loại: Tam giác thường\n",
      "C (Chu vi): 15.0\n",
      "S (Diện tích): 9.92\n"
     ]
    }
   ],
   "source": [
    "#bài 3 \n",
    "import math\n",
    "def la_tam_giac(a, b, c):\n",
    "    return a + b > c and a + c > b and b + c > a\n",
    "\n",
    "def loai_tam_giac(a, b, c):\n",
    "    if a == b == c:\n",
    "        return \"Tam giác đều\"\n",
    "    elif a == b or b == c or a == c:\n",
    "        return \"Tam giác cân\"\n",
    "    elif (a**2 + b**2 == c**2) or (a**2 + c**2 == b**2) or (b**2 + c**2 == a**2):\n",
    "        return \"Tam giác vuông\"\n",
    "    else:\n",
    "        return \"Tam giác thường\"\n",
    "def tinh_C(a, b, c):\n",
    "    return a + b + c\n",
    "def tinh_S(a, b, c):\n",
    "    p = tinh_C(a, b, c) / 2\n",
    "    return math.sqrt(p * (p - a) * (p - b) * (p - c))\n",
    "def xu_ly(a, b, c):\n",
    "    if not la_tam_giac(a, b, c):\n",
    "        print(\"Không là ba cạnh của một tam giác\")\n",
    "    else:\n",
    "        print(\"Loại:\", loai_tam_giac(a, b, c))\n",
    "        C = tinh_C(a, b, c)\n",
    "        S = tinh_S(a, b, c)\n",
    "        print(\"C (Chu vi):\", C)\n",
    "        print(\"S (Diện tích):\", round(S, 2))\n",
    "a = float(input(\"Nhập cạnh a: \"))\n",
    "b = float(input(\"Nhập cạnh b: \"))\n",
    "c = float(input(\"Nhập cạnh c: \"))\n",
    "\n",
    "xu_ly(a, b, c)\n",
    "\n",
    "        \n",
    "    "
   ]
  },
  {
   "cell_type": "code",
   "execution_count": 3,
   "id": "bce66cf7-21e5-4279-bc97-2aab45041eb0",
   "metadata": {},
   "outputs": [
    {
     "name": "stdin",
     "output_type": "stream",
     "text": [
      " 3 6\n"
     ]
    },
    {
     "name": "stdout",
     "output_type": "stream",
     "text": [
      "x= -2.0\n"
     ]
    }
   ],
   "source": [
    "#bài 4 \n",
    "a,b=map(int, input().split())\n",
    "print(\"x=\",-b/a)"
   ]
  },
  {
   "cell_type": "code",
   "execution_count": 3,
   "id": "c4a69b73-0b7d-4c11-b4e7-38969adfaf4e",
   "metadata": {},
   "outputs": [
    {
     "name": "stdin",
     "output_type": "stream",
     "text": [
      "Nhập a, b, c cách nhau bởi dấu cách:  4 -4 1\n"
     ]
    },
    {
     "name": "stdout",
     "output_type": "stream",
     "text": [
      "0.5\n"
     ]
    }
   ],
   "source": [
    "#bài 5\n",
    "import math\n",
    "a, b, c = map(int, input(\"Nhập a, b, c cách nhau bởi dấu cách: \").split())\n",
    "delta = b**2 - 4*a*c\n",
    "\n",
    "if delta > 0:\n",
    "    x1 = (-b + math.sqrt(delta)) / (2 * a)\n",
    "    x2 = (-b - math.sqrt(delta)) / (2 * a)\n",
    "    print(x1)\n",
    "    print(x2)\n",
    "elif delta == 0:\n",
    "    x = (-b + math.sqrt(delta)) / (2 * a) \n",
    "    print(x)\n",
    "else:\n",
    "    print(\"Phương trình vô nghiệm.\")\n"
   ]
  },
  {
   "cell_type": "code",
   "execution_count": 14,
   "id": "2d4ddb13-5926-4ef5-b5f9-cc9c10914e83",
   "metadata": {},
   "outputs": [
    {
     "name": "stdin",
     "output_type": "stream",
     "text": [
      " 4 3 5 5\n"
     ]
    },
    {
     "name": "stdout",
     "output_type": "stream",
     "text": [
      "5\n"
     ]
    }
   ],
   "source": [
    "#bài 6 cách 1\n",
    "a,b,c,d=map(int, input().split())\n",
    "if a>b and a>c and a>d:\n",
    "   print(a)\n",
    "elif b>c and b>d and b>a:\n",
    "   print(b)\n",
    "elif d>a and d>b and d>c:\n",
    "    print(d)\n",
    "else: \n",
    "    print(c)"
   ]
  },
  {
   "cell_type": "code",
   "execution_count": 21,
   "id": "16866262-5d73-4816-8e18-ce183efd274d",
   "metadata": {},
   "outputs": [
    {
     "name": "stdin",
     "output_type": "stream",
     "text": [
      " 3 4 5 8\n"
     ]
    },
    {
     "name": "stdout",
     "output_type": "stream",
     "text": [
      "Giá trị lớn nhất là: 8\n"
     ]
    }
   ],
   "source": [
    "#bài 6 cách 2 \n",
    "a,b,c,d=map(int, input().split())\n",
    "max_value = a\n",
    "if b > max_value:\n",
    "    max_value = b\n",
    "if c > max_value:\n",
    "    max_value = c\n",
    "if d > max_value:\n",
    "    max_value = d\n",
    "print(\"Giá trị lớn nhất là:\", max_value)\n"
   ]
  },
  {
   "cell_type": "code",
   "execution_count": 23,
   "id": "754bf61f-78c8-4051-8124-8fa2bb782f41",
   "metadata": {},
   "outputs": [
    {
     "name": "stdin",
     "output_type": "stream",
     "text": [
      " 5 67 8 9\n"
     ]
    },
    {
     "name": "stdout",
     "output_type": "stream",
     "text": [
      "67\n"
     ]
    }
   ],
   "source": [
    "#bài 6 cách 3 \n",
    "a,b,c,d=map(int, input().split())\n",
    "max_value=max(a,b,c,d)\n",
    "print(max_value)"
   ]
  },
  {
   "cell_type": "code",
   "execution_count": 25,
   "id": "b9b463e1-d248-4293-b7dd-bc61b154a4f0",
   "metadata": {},
   "outputs": [
    {
     "name": "stdin",
     "output_type": "stream",
     "text": [
      " 4 66 7 8\n"
     ]
    },
    {
     "name": "stdout",
     "output_type": "stream",
     "text": [
      "4\n"
     ]
    }
   ],
   "source": [
    "#bài 7\n",
    "a,b,c,d=map(int, input().split())\n",
    "min_value=min(a,b,c,d)\n",
    "print(min_value)"
   ]
  },
  {
   "cell_type": "code",
   "execution_count": 30,
   "id": "ad8e9a4b-5a92-469f-88f7-ff7937faaee2",
   "metadata": {},
   "outputs": [
    {
     "name": "stdin",
     "output_type": "stream",
     "text": [
      " 2 3 4 6 7 1\n"
     ]
    },
    {
     "name": "stdout",
     "output_type": "stream",
     "text": [
      "-6.25 5.5\n"
     ]
    }
   ],
   "source": [
    "#bài 8\n",
    "a,b,m,c,d,n=map(int, input().split())\n",
    "if a !=0 and c !=0:\n",
    "    x=(m*d-n*b)/(a*d-b*c)\n",
    "    y=(m-a*x)/b\n",
    "    print(x,y)"
   ]
  },
  {
   "cell_type": "code",
   "execution_count": 7,
   "id": "489b075f-a92a-46d4-91e9-2779204de8af",
   "metadata": {},
   "outputs": [
    {
     "name": "stdin",
     "output_type": "stream",
     "text": [
      " 200\n"
     ]
    },
    {
     "name": "stdout",
     "output_type": "stream",
     "text": [
      "0 3 20\n"
     ]
    }
   ],
   "source": [
    "#bài 9\n",
    "a=int(input())\n",
    "h= a//3600\n",
    "m= (a-h*3600)//60\n",
    "s=(a-h*3600-m*60)\n",
    "print(h,m,s)"
   ]
  },
  {
   "cell_type": "code",
   "execution_count": 6,
   "id": "a8d13b20-4994-439f-b0bb-2eeae9110a2a",
   "metadata": {},
   "outputs": [
    {
     "name": "stdin",
     "output_type": "stream",
     "text": [
      " 1 1\n",
      " 4\n",
      " 2 2\n"
     ]
    },
    {
     "name": "stdout",
     "output_type": "stream",
     "text": [
      "điểm này thuộc đường tròn\n"
     ]
    }
   ],
   "source": [
    "#bài 10\n",
    "a,b=map(int, input().split())\n",
    "R=int(input())\n",
    "x,y=map(int, input().split())\n",
    "if (x-a)**2 + (y-b)**2 <= R**2:\n",
    "    print(\"điểm này thuộc đường tròn\")\n",
    "else: \n",
    "    print(\"Điểm này không thuộc đường tròn\")\n",
    "    "
   ]
  },
  {
   "cell_type": "code",
   "execution_count": 3,
   "id": "f91ca0c8-85b1-45db-af85-2594e1832515",
   "metadata": {},
   "outputs": [
    {
     "name": "stdin",
     "output_type": "stream",
     "text": [
      " 2 3\n"
     ]
    },
    {
     "name": "stdout",
     "output_type": "stream",
     "text": [
      "8\n"
     ]
    }
   ],
   "source": [
    "#bài 11\n",
    "x,y=map(int, input().split())\n",
    "print(x**y)"
   ]
  }
 ],
 "metadata": {
  "kernelspec": {
   "display_name": "Python 3 (ipykernel)",
   "language": "python",
   "name": "python3"
  },
  "language_info": {
   "codemirror_mode": {
    "name": "ipython",
    "version": 3
   },
   "file_extension": ".py",
   "mimetype": "text/x-python",
   "name": "python",
   "nbconvert_exporter": "python",
   "pygments_lexer": "ipython3",
   "version": "3.13.5"
  }
 },
 "nbformat": 4,
 "nbformat_minor": 5
}
